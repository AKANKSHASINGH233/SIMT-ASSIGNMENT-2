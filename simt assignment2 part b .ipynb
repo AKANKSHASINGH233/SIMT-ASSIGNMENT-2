{
 "cells": [
  {
   "cell_type": "code",
   "execution_count": 1,
   "id": "located-color",
   "metadata": {},
   "outputs": [],
   "source": [
    "from sklearn import datasets\n",
    "from sklearn.model_selection import train_test_split\n",
    "from sklearn.preprocessing import StandardScaler\n",
    "import pandas as pd\n",
    "from sklearn.linear_model import LogisticRegression"
   ]
  },
  {
   "cell_type": "code",
   "execution_count": 2,
   "id": "directed-transition",
   "metadata": {},
   "outputs": [
    {
     "name": "stdout",
     "output_type": "stream",
     "text": [
      "Data fields data set:\n",
      "['mean radius' 'mean texture' 'mean perimeter' 'mean area'\n",
      " 'mean smoothness' 'mean compactness' 'mean concavity'\n",
      " 'mean concave points' 'mean symmetry' 'mean fractal dimension'\n",
      " 'radius error' 'texture error' 'perimeter error' 'area error'\n",
      " 'smoothness error' 'compactness error' 'concavity error'\n",
      " 'concave points error' 'symmetry error' 'fractal dimension error'\n",
      " 'worst radius' 'worst texture' 'worst perimeter' 'worst area'\n",
      " 'worst smoothness' 'worst compactness' 'worst concavity'\n",
      " 'worst concave points' 'worst symmetry' 'worst fractal dimension']\n",
      "\n",
      "Classification outcomes:\n",
      "['malignant' 'benign']\n"
     ]
    }
   ],
   "source": [
    "\n",
    "# Load Dataset\n",
    "\n",
    "data_set = datasets.load_breast_cancer()\n",
    "X=data_set.data\n",
    "y=data_set.target\n",
    "\n",
    "# Show data fields\n",
    "print ('Data fields data set:')\n",
    "print (data_set.feature_names)\n",
    "\n",
    "# Show classifications\n",
    "print ('\\nClassification outcomes:')\n",
    "print (data_set.target_names)"
   ]
  },
  {
   "cell_type": "code",
   "execution_count": 3,
   "id": "blond-square",
   "metadata": {},
   "outputs": [],
   "source": [
    "# Create training and test data sets\n",
    "X_train,X_test,y_train,y_test=train_test_split(\n",
    "        X,y,test_size=0.25, random_state=0)\n",
    "\n",
    "# Initialise a new scaling object for normalising input data\n",
    "sc=StandardScaler() \n",
    "\n",
    "# Set up the scaler just on the training set\n",
    "sc.fit(X_train)\n",
    "\n",
    "# Apply the scaler to the training and test sets\n",
    "X_train_std=sc.transform(X_train)\n",
    "X_test_std=sc.transform(X_test)"
   ]
  },
  {
   "cell_type": "code",
   "execution_count": 6,
   "id": "funded-harris",
   "metadata": {},
   "outputs": [
    {
     "name": "stderr",
     "output_type": "stream",
     "text": [
      "/srv/conda/envs/notebook/lib/python3.6/site-packages/sklearn/linear_model/_logistic.py:765: ConvergenceWarning: lbfgs failed to converge (status=1):\n",
      "STOP: TOTAL NO. of ITERATIONS REACHED LIMIT.\n",
      "\n",
      "Increase the number of iterations (max_iter) or scale the data as shown in:\n",
      "    https://scikit-learn.org/stable/modules/preprocessing.html\n",
      "Please also refer to the documentation for alternative solver options:\n",
      "    https://scikit-learn.org/stable/modules/linear_model.html#logistic-regression\n",
      "  extra_warning_msg=_LOGISTIC_SOLVER_CONVERGENCE_MSG)\n"
     ]
    },
    {
     "data": {
      "text/plain": [
       "LogisticRegression(C=100, random_state=0)"
      ]
     },
     "execution_count": 6,
     "metadata": {},
     "output_type": "execute_result"
    }
   ],
   "source": [
    "# Run logistic regression model from sklearn\n",
    "from sklearn.linear_model import LogisticRegression\n",
    "lr=LogisticRegression(C=100,random_state=0)\n",
    "lr.fit(X_train_std,y_train)"
   ]
  },
  {
   "cell_type": "code",
   "execution_count": 5,
   "id": "skilled-technician",
   "metadata": {},
   "outputs": [],
   "source": [
    "y_pred=lr.predict(X_test_std)"
   ]
  },
  {
   "cell_type": "code",
   "execution_count": 7,
   "id": "ancient-garlic",
   "metadata": {},
   "outputs": [
    {
     "name": "stdout",
     "output_type": "stream",
     "text": [
      "\n",
      "Percent Accuracy: 93.7\n"
     ]
    }
   ],
   "source": [
    "correct = (y_test == y_pred).sum()\n",
    "incorrect = (y_test != y_pred).sum()\n",
    "accuracy = correct / (correct + incorrect) * 100\n",
    "\n",
    "print('\\nPercent Accuracy: %0.1f' %accuracy)"
   ]
  },
  {
   "cell_type": "code",
   "execution_count": 8,
   "id": "passive-barcelona",
   "metadata": {},
   "outputs": [
    {
     "name": "stdout",
     "output_type": "stream",
     "text": [
      "\n",
      "Detailed results for first 20 tests:\n",
      "       actual  predicted  correct\n",
      "0   malignant  malignant     True\n",
      "1      benign     benign     True\n",
      "2      benign     benign     True\n",
      "3      benign     benign     True\n",
      "4      benign     benign     True\n",
      "5      benign     benign     True\n",
      "6      benign     benign     True\n",
      "7      benign     benign     True\n",
      "8      benign     benign     True\n",
      "9      benign     benign     True\n",
      "10     benign     benign     True\n",
      "11     benign     benign     True\n",
      "12     benign     benign     True\n",
      "13     benign  malignant    False\n",
      "14     benign     benign     True\n",
      "15  malignant  malignant     True\n",
      "16     benign     benign     True\n",
      "17  malignant  malignant     True\n",
      "18  malignant  malignant     True\n",
      "19  malignant  malignant     True\n"
     ]
    }
   ],
   "source": [
    "# Show more detailed results\n",
    "\n",
    "prediction = pd.DataFrame()\n",
    "prediction['actual'] = data_set.target_names[y_test]\n",
    "prediction['predicted'] = data_set.target_names[y_pred]\n",
    "prediction['correct'] = prediction['actual'] == prediction['predicted']\n",
    "\n",
    "print ('\\nDetailed results for first 20 tests:')\n",
    "print (prediction.head(20))"
   ]
  },
  {
   "cell_type": "code",
   "execution_count": null,
   "id": "fifty-traffic",
   "metadata": {},
   "outputs": [],
   "source": []
  }
 ],
 "metadata": {
  "kernelspec": {
   "display_name": "Python 3",
   "language": "python",
   "name": "python3"
  },
  "language_info": {
   "codemirror_mode": {
    "name": "ipython",
    "version": 3
   },
   "file_extension": ".py",
   "mimetype": "text/x-python",
   "name": "python",
   "nbconvert_exporter": "python",
   "pygments_lexer": "ipython3",
   "version": "3.6.13"
  }
 },
 "nbformat": 4,
 "nbformat_minor": 5
}
